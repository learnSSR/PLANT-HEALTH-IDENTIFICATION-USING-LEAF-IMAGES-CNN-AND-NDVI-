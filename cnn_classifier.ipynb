{
  "nbformat": 4,
  "nbformat_minor": 0,
  "metadata": {
    "kernelspec": {
      "display_name": "Python 3",
      "language": "python",
      "name": "python3"
    },
    "language_info": {
      "codemirror_mode": {
        "name": "ipython",
        "version": 3
      },
      "file_extension": ".py",
      "mimetype": "text/x-python",
      "name": "python",
      "nbconvert_exporter": "python",
      "pygments_lexer": "ipython3",
      "version": "3.6.4"
    },
    "colab": {
      "name": "cnn_classifier.ipynb",
      "provenance": [],
      "collapsed_sections": []
    }
  },
  "cells": [
    {
      "cell_type": "code",
      "metadata": {
        "id": "Pq1CtUAWb0sZ",
        "colab_type": "code",
        "colab": {
          "base_uri": "https://localhost:8080/",
          "height": 124
        },
        "outputId": "fbd0209e-9cca-408f-cda1-640e2fa7c94e"
      },
      "source": [
        "# Mount Google Drive\n",
        "from google.colab import drive\n",
        "drive.mount('/content/drive')"
      ],
      "execution_count": null,
      "outputs": [
        {
          "output_type": "stream",
          "text": [
            "Go to this URL in a browser: https://accounts.google.com/o/oauth2/auth?client_id=947318989803-6bn6qk8qdgf4n4g3pfee6491hc0brc4i.apps.googleusercontent.com&redirect_uri=urn%3aietf%3awg%3aoauth%3a2.0%3aoob&response_type=code&scope=email%20https%3a%2f%2fwww.googleapis.com%2fauth%2fdocs.test%20https%3a%2f%2fwww.googleapis.com%2fauth%2fdrive%20https%3a%2f%2fwww.googleapis.com%2fauth%2fdrive.photos.readonly%20https%3a%2f%2fwww.googleapis.com%2fauth%2fpeopleapi.readonly\n",
            "\n",
            "Enter your authorization code:\n",
            "··········\n",
            "Mounted at /content/drive\n"
          ],
          "name": "stdout"
        }
      ]
    },
    {
      "cell_type": "code",
      "metadata": {
        "id": "gpz48Wj8cDZe",
        "colab_type": "code",
        "colab": {}
      },
      "source": [
        "# Copy dataset.zip file in Google Collab storage\n",
        "!cp drive/\"My Drive\"/\"Colab Notebooks\"/dataset.zip /tmp/dataset.zip"
      ],
      "execution_count": null,
      "outputs": []
    },
    {
      "cell_type": "code",
      "metadata": {
        "id": "0hH_hdnNcmj9",
        "colab_type": "code",
        "colab": {}
      },
      "source": [
        "# Import required modules\n",
        "import numpy as np\n",
        "import pandas as pd\n",
        "import os\n",
        "import zipfile\n",
        "from keras.models import Sequential\n",
        "from keras.layers import Conv2D\n",
        "from keras.layers import MaxPooling2D\n",
        "from keras.layers import Flatten\n",
        "from keras.layers import Dense\n",
        "from keras.preprocessing.image import ImageDataGenerator"
      ],
      "execution_count": null,
      "outputs": []
    },
    {
      "cell_type": "code",
      "metadata": {
        "id": "rGycT4c2GOtN",
        "colab_type": "code",
        "colab": {
          "base_uri": "https://localhost:8080/",
          "height": 34
        },
        "outputId": "818425fd-0ab9-4d59-aabf-51578a227822"
      },
      "source": [
        "# Extract data from dataset.zip file\n",
        "local_zip = '/tmp/dataset.zip'\n",
        "zip_ref = zipfile.ZipFile(local_zip, 'r')\n",
        "zip_ref.extractall('/tmp')"
      ],
      "execution_count": null,
      "outputs": [
        {
          "output_type": "stream",
          "text": [
            "Using TensorFlow backend.\n"
          ],
          "name": "stderr"
        }
      ]
    },
    {
      "cell_type": "code",
      "metadata": {
        "id": "q20Hgs4vGOua",
        "colab_type": "code",
        "colab": {}
      },
      "source": [
        "# Build CNN model\n",
        "classifier = Sequential()\n",
        "# Convolution layer\n",
        "classifier.add(Conv2D(32, (3, 3), input_shape = (64, 64, 3), activation = 'relu'))\n",
        "# Pooling layer\n",
        "classifier.add(MaxPooling2D(pool_size = (2, 2)))\n",
        "# Convolution layer\n",
        "classifier.add(Conv2D(32, (3, 3), activation = 'relu'))\n",
        "# Pooling layer\n",
        "classifier.add(MaxPooling2D(pool_size = (2, 2)))\n",
        "# Flattening layer\n",
        "classifier.add(Flatten())\n",
        "# Dense layer\n",
        "classifier.add(Dense(units = 128, activation = 'relu'))\n",
        "# Dense layer\n",
        "classifier.add(Dense(units = 2, activation = 'sigmoid'))\n",
        "# Using Adam optimizer and Cross Entropy loss function\n",
        "classifier.compile(optimizer = 'adam', loss = 'binary_crossentropy', metrics = ['accuracy'])\n",
        "classifier.summary()"
      ],
      "execution_count": null,
      "outputs": []
    },
    {
      "cell_type": "code",
      "metadata": {
        "id": "0Dcm2WI4aRcr",
        "colab_type": "code",
        "colab": {}
      },
      "source": [
        "# Utility to generate training data\n",
        "train_datagen = ImageDataGenerator(rescale = 1./255,\n",
        "                                   shear_range = 0.2,\n",
        "                                   zoom_range = 0.2,\n",
        "                                   horizontal_flip = True,\n",
        "                                   validation_split=0.20)\n",
        "\n",
        "# Utility to generate test data\n",
        "test_datagen = ImageDataGenerator(rescale = 1./255)"
      ],
      "execution_count": null,
      "outputs": []
    },
    {
      "cell_type": "code",
      "metadata": {
        "id": "iK516ALda_K7",
        "colab_type": "code",
        "colab": {
          "base_uri": "https://localhost:8080/",
          "height": 34
        },
        "outputId": "a6328598-3b80-4cfc-aa7a-773227ddb0ee"
      },
      "source": [
        "# Generate Training set\n",
        "train_generator = train_datagen.flow_from_directory('/tmp/dataset/training_set',\n",
        "                                                 target_size = (64, 64),\n",
        "                                                 batch_size = 40,\n",
        "                                                 color_mode = 'rgb',\n",
        "                                                 subset = 'training',\n",
        "                                                 shuffle = True,\n",
        "                                                 class_mode = 'categorical',\n",
        "                                                 seed = 47)"
      ],
      "execution_count": null,
      "outputs": [
        {
          "output_type": "stream",
          "text": [
            "Found 1760 images belonging to 2 classes.\n"
          ],
          "name": "stdout"
        }
      ]
    },
    {
      "cell_type": "code",
      "metadata": {
        "id": "Fzpv3bjVbDWm",
        "colab_type": "code",
        "colab": {
          "base_uri": "https://localhost:8080/",
          "height": 34
        },
        "outputId": "3f4893f2-28b4-496a-c634-40821c0a3998"
      },
      "source": [
        "# Generate Validation set\n",
        "valid_generator = train_datagen.flow_from_directory('/tmp/dataset/training_set',\n",
        "                                            target_size = (64, 64),\n",
        "                                            batch_size = 40,\n",
        "                                            color_mode = 'rgb',\n",
        "                                            subset = 'validation',\n",
        "                                            shuffle = True,\n",
        "                                            class_mode = 'categorical',\n",
        "                                            seed = 47)"
      ],
      "execution_count": null,
      "outputs": [
        {
          "output_type": "stream",
          "text": [
            "Found 440 images belonging to 2 classes.\n"
          ],
          "name": "stdout"
        }
      ]
    },
    {
      "cell_type": "code",
      "metadata": {
        "id": "BTyat5dCbLvT",
        "colab_type": "code",
        "colab": {
          "base_uri": "https://localhost:8080/",
          "height": 34
        },
        "outputId": "fe1850d1-63b8-4da8-fc26-3c2d28a45c61"
      },
      "source": [
        "# Generate Test set\n",
        "test_generator = test_datagen.flow_from_directory(\n",
        "    directory='/tmp/dataset/test_set',\n",
        "    target_size=(64, 64),\n",
        "    color_mode='rgb',\n",
        "    batch_size=32,\n",
        "    class_mode=None,\n",
        "    shuffle=False,\n",
        "    seed=47\n",
        ")"
      ],
      "execution_count": null,
      "outputs": [
        {
          "output_type": "stream",
          "text": [
            "Found 384 images belonging to 1 classes.\n"
          ],
          "name": "stdout"
        }
      ]
    },
    {
      "cell_type": "code",
      "metadata": {
        "id": "wSdjdb3wbQG6",
        "colab_type": "code",
        "colab": {
          "base_uri": "https://localhost:8080/",
          "height": 402
        },
        "outputId": "a1bab389-4234-4f6e-8048-c3de4f9cc8c8"
      },
      "source": [
        "# Training the classifier\n",
        "STEP_SIZE_TRAIN=train_generator.n//train_generator.batch_size\n",
        "STEP_SIZE_VALID=valid_generator.n//valid_generator.batch_size\n",
        "classifier.fit_generator(train_generator,\n",
        "                         steps_per_epoch = STEP_SIZE_TRAIN,\n",
        "                         epochs = 10,\n",
        "                         validation_data = valid_generator,\n",
        "                         validation_steps = STEP_SIZE_VALID)"
      ],
      "execution_count": null,
      "outputs": [
        {
          "output_type": "stream",
          "text": [
            "Epoch 1/10\n",
            "44/44 [==============================] - 13s 294ms/step - loss: 0.6712 - accuracy: 0.5767 - val_loss: 0.5479 - val_accuracy: 0.6489\n",
            "Epoch 2/10\n",
            "44/44 [==============================] - 13s 287ms/step - loss: 0.4733 - accuracy: 0.7699 - val_loss: 0.2215 - val_accuracy: 0.8659\n",
            "Epoch 3/10\n",
            "44/44 [==============================] - 13s 286ms/step - loss: 0.2572 - accuracy: 0.9045 - val_loss: 0.1874 - val_accuracy: 0.9318\n",
            "Epoch 4/10\n",
            "44/44 [==============================] - 13s 288ms/step - loss: 0.1465 - accuracy: 0.9446 - val_loss: 0.1694 - val_accuracy: 0.9466\n",
            "Epoch 5/10\n",
            "44/44 [==============================] - 13s 288ms/step - loss: 0.1518 - accuracy: 0.9438 - val_loss: 0.1623 - val_accuracy: 0.9500\n",
            "Epoch 6/10\n",
            "44/44 [==============================] - 13s 285ms/step - loss: 0.0981 - accuracy: 0.9656 - val_loss: 0.0318 - val_accuracy: 0.9682\n",
            "Epoch 7/10\n",
            "44/44 [==============================] - 13s 285ms/step - loss: 0.0890 - accuracy: 0.9625 - val_loss: 0.1344 - val_accuracy: 0.9545\n",
            "Epoch 8/10\n",
            "44/44 [==============================] - 13s 286ms/step - loss: 0.0637 - accuracy: 0.9773 - val_loss: 0.0826 - val_accuracy: 0.9852\n",
            "Epoch 9/10\n",
            "44/44 [==============================] - 12s 284ms/step - loss: 0.0553 - accuracy: 0.9776 - val_loss: 0.0293 - val_accuracy: 0.9693\n",
            "Epoch 10/10\n",
            "44/44 [==============================] - 13s 284ms/step - loss: 0.0742 - accuracy: 0.9787 - val_loss: 0.1561 - val_accuracy: 0.9682\n"
          ],
          "name": "stdout"
        },
        {
          "output_type": "execute_result",
          "data": {
            "text/plain": [
              "<keras.callbacks.callbacks.History at 0x7f2eae4d1400>"
            ]
          },
          "metadata": {
            "tags": []
          },
          "execution_count": 50
        }
      ]
    },
    {
      "cell_type": "code",
      "metadata": {
        "id": "QCJLTkY1bULO",
        "colab_type": "code",
        "colab": {
          "base_uri": "https://localhost:8080/",
          "height": 52
        },
        "outputId": "1c58a5a1-72a1-4715-be3b-0f6554ea1fdc"
      },
      "source": [
        "# Calculate accuracy and loss on validation set\n",
        "score = classifier.evaluate_generator(valid_generator)\n",
        "print('Test loss:', score[0])\n",
        "print('Test accuracy:', score[1])"
      ],
      "execution_count": null,
      "outputs": [
        {
          "output_type": "stream",
          "text": [
            "Test loss: 0.08227900415658951\n",
            "Test accuracy: 0.9681817889213562\n"
          ],
          "name": "stdout"
        }
      ]
    },
    {
      "cell_type": "code",
      "metadata": {
        "id": "mS5En9G2k90Q",
        "colab_type": "code",
        "colab": {
          "base_uri": "https://localhost:8080/",
          "height": 34
        },
        "outputId": "cb10b530-fd25-4221-b4bd-d2b371c57e92"
      },
      "source": [
        "# Predict output for test set\n",
        "STEP_SIZE_TEST=test_generator.n//test_generator.batch_size\n",
        "predict=classifier.predict_generator(test_generator,\n",
        "steps=STEP_SIZE_TEST,\n",
        "verbose=1)"
      ],
      "execution_count": null,
      "outputs": [
        {
          "output_type": "stream",
          "text": [
            "12/12 [==============================] - 1s 82ms/step\n"
          ],
          "name": "stdout"
        }
      ]
    },
    {
      "cell_type": "code",
      "metadata": {
        "id": "x8sXg4DcZN40",
        "colab_type": "code",
        "colab": {}
      },
      "source": [
        "# Save predictions to results.csv file\n",
        "predicted_class_indices=pred.argmax(axis=-1)\n",
        "labels = (train_generator.class_indices)\n",
        "labels = dict((v,k) for k,v in labels.items())\n",
        "predictions = [labels[k] for k in predicted_class_indices]\n",
        "filenames=test_generator.filenames\n",
        "results=pd.DataFrame({\"Filename\":filenames,\n",
        "                      \"Predictions\":predictions})\n",
        "results.to_csv(\"results.csv\",index=False)"
      ],
      "execution_count": null,
      "outputs": []
    },
    {
      "cell_type": "code",
      "metadata": {
        "id": "3dYt7nFwkNOt",
        "colab_type": "code",
        "colab": {}
      },
      "source": [
        "# Save the model\n",
        "classifier.save(\"model.h5\")"
      ],
      "execution_count": null,
      "outputs": []
    }
  ]
}