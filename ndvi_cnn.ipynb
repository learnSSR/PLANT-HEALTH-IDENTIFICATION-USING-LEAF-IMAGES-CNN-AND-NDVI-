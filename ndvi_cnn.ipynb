{
  "nbformat": 4,
  "nbformat_minor": 0,
  "metadata": {
    "colab": {
      "name": "ndvi_cnn.ipynb",
      "provenance": []
    },
    "kernelspec": {
      "name": "python3",
      "display_name": "Python 3"
    }
  },
  "cells": [
    {
      "cell_type": "code",
      "metadata": {
        "id": "RJAmy0EGttaW",
        "colab_type": "code",
        "colab": {
          "base_uri": "https://localhost:8080/",
          "height": 124
        },
        "outputId": "a2676609-9b7b-4f5f-bf63-f60ee4494b14"
      },
      "source": [
        "from google.colab import drive\n",
        "drive.mount('/content/drive')"
      ],
      "execution_count": null,
      "outputs": [
        {
          "output_type": "stream",
          "text": [
            "Go to this URL in a browser: https://accounts.google.com/o/oauth2/auth?client_id=947318989803-6bn6qk8qdgf4n4g3pfee6491hc0brc4i.apps.googleusercontent.com&redirect_uri=urn%3aietf%3awg%3aoauth%3a2.0%3aoob&response_type=code&scope=email%20https%3a%2f%2fwww.googleapis.com%2fauth%2fdocs.test%20https%3a%2f%2fwww.googleapis.com%2fauth%2fdrive%20https%3a%2f%2fwww.googleapis.com%2fauth%2fdrive.photos.readonly%20https%3a%2f%2fwww.googleapis.com%2fauth%2fpeopleapi.readonly\n",
            "\n",
            "Enter your authorization code:\n",
            "··········\n",
            "Mounted at /content/drive\n"
          ],
          "name": "stdout"
        }
      ]
    },
    {
      "cell_type": "code",
      "metadata": {
        "id": "q6UdFZUltyv7",
        "colab_type": "code",
        "colab": {}
      },
      "source": [
        "!cp drive/\"My Drive\"/\"Colab Notebooks\"/dataset.zip /tmp/dataset.zip"
      ],
      "execution_count": null,
      "outputs": []
    },
    {
      "cell_type": "code",
      "metadata": {
        "id": "QZxCie9OtzYR",
        "colab_type": "code",
        "colab": {}
      },
      "source": [
        "import os\n",
        "import zipfile\n",
        "import numpy as np\n",
        "import pandas as pd\n",
        "import cv2"
      ],
      "execution_count": null,
      "outputs": []
    },
    {
      "cell_type": "code",
      "metadata": {
        "id": "KV_5hreRt-jr",
        "colab_type": "code",
        "colab": {}
      },
      "source": [
        "local_zip = '/tmp/dataset.zip'\n",
        "zip_ref = zipfile.ZipFile(local_zip, 'r')\n",
        "zip_ref.extractall('/tmp')"
      ],
      "execution_count": null,
      "outputs": []
    },
    {
      "cell_type": "code",
      "metadata": {
        "id": "1ThStQu2tsPi",
        "colab_type": "code",
        "colab": {}
      },
      "source": [
        "from keras.models import load_model\n",
        "classifier = load_model('model.h5')\n",
        "classifier.summary()"
      ],
      "execution_count": null,
      "outputs": []
    },
    {
      "cell_type": "code",
      "metadata": {
        "id": "stwGCUfguDBG",
        "colab_type": "code",
        "colab": {}
      },
      "source": [
        "from keras.preprocessing.image import ImageDataGenerator"
      ],
      "execution_count": null,
      "outputs": []
    },
    {
      "cell_type": "code",
      "metadata": {
        "id": "UDUk5eYnuDm0",
        "colab_type": "code",
        "colab": {}
      },
      "source": [
        "test_datagen = ImageDataGenerator(rescale = 1./255)"
      ],
      "execution_count": null,
      "outputs": []
    },
    {
      "cell_type": "code",
      "metadata": {
        "id": "ABsbhKxiuRjP",
        "colab_type": "code",
        "colab": {}
      },
      "source": [
        "test_generator = test_datagen.flow_from_directory(\n",
        "    directory='/tmp/dataset/test_set',\n",
        "    target_size=(64, 64),\n",
        "    color_mode='rgb',\n",
        "    batch_size=32,\n",
        "    class_mode=None,\n",
        "    shuffle=False,\n",
        "    seed=47\n",
        ")"
      ],
      "execution_count": null,
      "outputs": []
    },
    {
      "cell_type": "code",
      "metadata": {
        "id": "UlL-pnB-uXsB",
        "colab_type": "code",
        "colab": {}
      },
      "source": [
        "predicted_class_indices=pred.argmax(axis=-1)\n",
        "labels = (train_generator.class_indices)\n",
        "labels = dict((v,k) for k,v in labels.items())\n",
        "predictions = [labels[k] for k in predicted_class_indices]\n",
        "filenames=test_generator.filenames\n",
        "results=pd.DataFrame({\"Filename\":filenames,\n",
        "                      \"Predictions\":predictions})\n",
        "#results.to_csv(\"results.csv\",index=False)"
      ],
      "execution_count": null,
      "outputs": []
    },
    {
      "cell_type": "code",
      "metadata": {
        "id": "WhBpUw7FuaoH",
        "colab_type": "code",
        "colab": {}
      },
      "source": [
        "def ndvi_prediction(filepath):\n",
        "    img = cv2.imread(filepath, 1)\n",
        "    img_hsv = cv2.cvtColor(img, cv2.COLOR_BGR2HSV)\n",
        "\n",
        "    for x in range(0,256):\n",
        "        for y in range(0,256):\n",
        "            if img_hsv[x][y][1] < 51:\n",
        "                img[x][y][0]=0\n",
        "                img[x][y][1]=0\n",
        "                img[x][y][2]=0\n",
        "    \n",
        "    unhealthy = 0\n",
        "    actual_pixels = 0\n",
        "    for x in range(0,256):\n",
        "        for y in range(0,256):\n",
        "            if img[x][y][0] != 0 and img[x][y][1] != 0 and img[x][y][2] != 0:\n",
        "                actual_pixels += 1\n",
        "                nir = ((1.8474519*img[x][y][2])-(0.1936929*img[x][y][1])+(0.12401134*img[x][y][0]))\n",
        "                if (nir - img[x][y][2]) / (nir + img[x][y][2]) < 0.2463804:\n",
        "                    unhealthy += 1\n",
        "\n",
        "    if unhealthy / actual_pixels >= 0.19:\n",
        "        return \"unhealthy\"\n",
        "    else:\n",
        "        return \"healthy\""
      ],
      "execution_count": null,
      "outputs": []
    },
    {
      "cell_type": "code",
      "metadata": {
        "id": "4h5TH-OHvgWg",
        "colab_type": "code",
        "colab": {}
      },
      "source": [
        "df = pd.read_csv(\"sample_data/results.csv\")"
      ],
      "execution_count": null,
      "outputs": []
    },
    {
      "cell_type": "code",
      "metadata": {
        "id": "yfRmJ2fpvv3_",
        "colab_type": "code",
        "colab": {}
      },
      "source": [
        "df['NDVI_Prediction'] = [ndvi_prediction(os.path.join(\"/tmp/dataset/test_set\", filename)) for filename in df['Filename']]"
      ],
      "execution_count": null,
      "outputs": []
    },
    {
      "cell_type": "code",
      "metadata": {
        "id": "aNggpeu_1u5j",
        "colab_type": "code",
        "colab": {}
      },
      "source": [
        "result = []\n",
        "ndvi = df['NDVI_Prediction']\n",
        "cnn = df['Predictions']\n",
        "for i in range(len(ndvi)):\n",
        "    if ndvi[i] == \"unhealthy\" and cnn[i] == \"healthy\":\n",
        "        result.append(\"unhealthy\")\n",
        "    else:\n",
        "        result.append(cnn[i])"
      ],
      "execution_count": null,
      "outputs": []
    },
    {
      "cell_type": "code",
      "metadata": {
        "id": "ggr5RnS77PaX",
        "colab_type": "code",
        "colab": {}
      },
      "source": [
        "df['Final_Output'] = result"
      ],
      "execution_count": null,
      "outputs": []
    },
    {
      "cell_type": "code",
      "metadata": {
        "id": "gIHWvdKs7X1t",
        "colab_type": "code",
        "colab": {}
      },
      "source": [
        "df.columns = ['Filenames', 'CNN_Predictions', 'NDVI_Predictions', 'Final_Output']"
      ],
      "execution_count": null,
      "outputs": []
    },
    {
      "cell_type": "code",
      "metadata": {
        "id": "Kcn4kfCd8Kt3",
        "colab_type": "code",
        "colab": {}
      },
      "source": [
        "df.to_csv(\"results.csv\")"
      ],
      "execution_count": null,
      "outputs": []
    }
  ]
}